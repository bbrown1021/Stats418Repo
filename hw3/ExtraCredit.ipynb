{
 "cells": [
  {
   "cell_type": "markdown",
   "metadata": {},
   "source": [
    "# Extra Credit\n",
    "\n",
    "### 1) Use OpenCV to augment the CIFAR-10 dataset with constructed images. Try the following transformations:\n",
    "\n",
    "    a)\tVertical/horizontal flip\n",
    "    b)\tRotation by a multiple of 90\n",
    "    c)\tShifting the image in a particular direction by a few pixels\n"
   ]
  },
  {
   "cell_type": "code",
   "execution_count": 23,
   "metadata": {},
   "outputs": [
    {
     "name": "stdout",
     "output_type": "stream",
     "text": [
      "OpenCV-Python Version 3.4.2\n"
     ]
    }
   ],
   "source": [
    "%matplotlib inline\n",
    "import matplotlib.pyplot as plt\n",
    "import matplotlib.image as mpimg\n",
    "\n",
    "import numpy as np\n",
    "import pandas as pd\n",
    "import pprint as pp\n",
    "\n",
    "\n",
    "import cv2 # OpenCV-Python\n",
    "print(\"OpenCV-Python Version %s\" % cv2.__version__)"
   ]
  },
  {
   "cell_type": "code",
   "execution_count": null,
   "metadata": {},
   "outputs": [],
   "source": []
  },
  {
   "cell_type": "code",
   "execution_count": null,
   "metadata": {},
   "outputs": [],
   "source": []
  },
  {
   "cell_type": "code",
   "execution_count": null,
   "metadata": {},
   "outputs": [],
   "source": []
  },
  {
   "cell_type": "code",
   "execution_count": 1,
   "metadata": {},
   "outputs": [],
   "source": [
    "# function to open pickled python files\n",
    "def unpickle(file):\n",
    "    import pickle\n",
    "    with open(file, 'rb') as fo:\n",
    "        dict = pickle.load(fo, encoding='bytes')\n",
    "    return dict"
   ]
  },
  {
   "cell_type": "markdown",
   "metadata": {},
   "source": [
    "### Meta Data\n",
    "\n",
    "There are 10,000 cases per batch and 3072 values per visual.  \n",
    "There are 10 classes: airplane, automobile, bird, cat, deer, dog, frog, horse, ship, and truck"
   ]
  },
  {
   "cell_type": "code",
   "execution_count": 2,
   "metadata": {},
   "outputs": [
    {
     "name": "stdout",
     "output_type": "stream",
     "text": [
      "dict_keys([b'num_cases_per_batch', b'label_names', b'num_vis'])\n",
      "{b'num_cases_per_batch': 10000, b'label_names': [b'airplane', b'automobile', b'bird', b'cat', b'deer', b'dog', b'frog', b'horse', b'ship', b'truck'], b'num_vis': 3072}\n"
     ]
    }
   ],
   "source": [
    "batches_meta = unpickle(\"data/cifar_10_batches_py/batches.meta\")\n",
    "print(batches_meta.keys())\n",
    "print(batches_meta)"
   ]
  },
  {
   "cell_type": "markdown",
   "metadata": {},
   "source": [
    "### Explore Batch 1\n",
    "\n",
    "There are four keys in each batch: \n",
    "- the batch label\n",
    "- the labels corresponding to the image\n",
    "- the 3072 array to define each image\n",
    "- the filename."
   ]
  },
  {
   "cell_type": "code",
   "execution_count": 3,
   "metadata": {},
   "outputs": [
    {
     "name": "stdout",
     "output_type": "stream",
     "text": [
      "4\n",
      "dict_keys([b'batch_label', b'labels', b'data', b'filenames'])\n"
     ]
    }
   ],
   "source": [
    "batch_1 = unpickle(\"data/cifar_10_batches_py/data_batch_1\")\n",
    "print(len(batch_1))\n",
    "print(batch_1.keys())"
   ]
  },
  {
   "cell_type": "code",
   "execution_count": 6,
   "metadata": {},
   "outputs": [
    {
     "name": "stdout",
     "output_type": "stream",
     "text": [
      "b'training batch 1 of 5'\n"
     ]
    }
   ],
   "source": [
    "pp.pprint(batch_1[b'batch_label'])"
   ]
  },
  {
   "cell_type": "code",
   "execution_count": 7,
   "metadata": {},
   "outputs": [
    {
     "name": "stdout",
     "output_type": "stream",
     "text": [
      "[6, 9, 9, 4, 1, 1, 2, 7, 8, 3, 4, 7, 7, 2, 9, 9, 9, 3, 2, 6]\n"
     ]
    }
   ],
   "source": [
    "pp.pprint(batch_1[b'labels'][:20]) # first 20 image labels"
   ]
  },
  {
   "cell_type": "code",
   "execution_count": 8,
   "metadata": {},
   "outputs": [
    {
     "name": "stdout",
     "output_type": "stream",
     "text": [
      "array([ 59,  43,  50, ..., 140,  84,  72], dtype=uint8)\n",
      "Dimension: 1\n",
      "Shape: (3072,)\n",
      "Filename: b'leptodactylus_pentadactylus_s_000004.png'\n"
     ]
    }
   ],
   "source": [
    "pp.pprint(batch_1[b'data'][0]) # first image array\n",
    "print(\"Dimension:\", batch_1[b'data'][0].ndim)\n",
    "print(\"Shape:\", batch_1[b'data'][0].shape)\n",
    "print(\"Filename:\", batch_1[b'filenames'][0])"
   ]
  },
  {
   "cell_type": "markdown",
   "metadata": {},
   "source": [
    "### Example Image"
   ]
  },
  {
   "cell_type": "code",
   "execution_count": 9,
   "metadata": {},
   "outputs": [
    {
     "name": "stdout",
     "output_type": "stream",
     "text": [
      "Dimension: 3\n",
      "Shape: (32, 32, 3)\n"
     ]
    }
   ],
   "source": [
    "image1 = list(batch_1.values())[2][0] # extract first set of 3072 values\n",
    "\n",
    "# divide array into 2D arrays for each color\n",
    "# divide by 255 because max value for RGB scale\n",
    "reds = np.reshape(image1[:1024],(32,32))/255\n",
    "greens = np.reshape(image1[1024:2048],(32,32))/255\n",
    "blues = np.reshape(image1[2048:],(32,32))/255\n",
    "\n",
    "# create a 3D array\n",
    "image1 = np.dstack((reds,greens,blues))\n",
    "print(\"Dimension:\", image1.ndim)\n",
    "print(\"Shape:\", image1.shape)"
   ]
  },
  {
   "cell_type": "code",
   "execution_count": 10,
   "metadata": {},
   "outputs": [
    {
     "data": {
      "image/png": "[encoded data removed]",
      "text/plain": [
       "<Figure size 720x180 with 3 Axes>"
      ]
     },
     "metadata": {
      "needs_background": "light"
     },
     "output_type": "display_data"
    }
   ],
   "source": [
    "plt.figure(figsize=(10,2.5))\n",
    "plt.subplot(131)\n",
    "plt.gca().set_title('Red channel')\n",
    "plt.imshow(reds, cmap='Reds', interpolation='nearest')\n",
    "plt.subplot(132)\n",
    "plt.gca().set_title('Green channel')\n",
    "plt.imshow(greens, cmap='Greens', interpolation='nearest')\n",
    "plt.subplot(133)\n",
    "plt.gca().set_title('Blue channel')\n",
    "plt.imshow(blues, cmap='Blues', interpolation='nearest')\n",
    "\n",
    "plt.show()"
   ]
  },
  {
   "cell_type": "code",
   "execution_count": 11,
   "metadata": {},
   "outputs": [
    {
     "data": {
      "image/png": "[encoded data removed]",
      "text/plain": [
       "<Figure size 180x180 with 1 Axes>"
      ]
     },
     "metadata": {
      "needs_background": "light"
     },
     "output_type": "display_data"
    }
   ],
   "source": [
    "plt.figure(figsize=(2.5,2.5))\n",
    "plt.imshow(image1, cmap=plt.cm.gray) \n",
    "plt.show()"
   ]
  },
  {
   "cell_type": "markdown",
   "metadata": {},
   "source": [
    "### Vertical Flip"
   ]
  },
  {
   "cell_type": "code",
   "execution_count": null,
   "metadata": {},
   "outputs": [],
   "source": []
  },
  {
   "cell_type": "markdown",
   "metadata": {},
   "source": [
    "### Horizontal Flip"
   ]
  },
  {
   "cell_type": "code",
   "execution_count": null,
   "metadata": {},
   "outputs": [],
   "source": []
  },
  {
   "cell_type": "markdown",
   "metadata": {},
   "source": [
    "### Rotation by a multiple of 90\n"
   ]
  },
  {
   "cell_type": "code",
   "execution_count": null,
   "metadata": {},
   "outputs": [],
   "source": []
  },
  {
   "cell_type": "markdown",
   "metadata": {},
   "source": [
    "### Shifting the image in a particular direction by a few pixels"
   ]
  },
  {
   "cell_type": "code",
   "execution_count": null,
   "metadata": {},
   "outputs": [],
   "source": []
  }
 ],
 "metadata": {
  "kernelspec": {
   "display_name": "Python 3 (ipykernel)",
   "language": "python",
   "name": "python3"
  },
  "language_info": {
   "codemirror_mode": {
    "name": "ipython",
    "version": 3
   },
   "file_extension": ".py",
   "mimetype": "text/x-python",
   "name": "python",
   "nbconvert_exporter": "python",
   "pygments_lexer": "ipython3",
   "version": "3.7.10"
  }
 },
 "nbformat": 4,
 "nbformat_minor": 4
}
